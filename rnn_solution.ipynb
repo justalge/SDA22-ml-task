{
 "cells": [
  {
   "cell_type": "code",
   "execution_count": 1,
   "id": "7241ae3e",
   "metadata": {},
   "outputs": [],
   "source": [
    "import torch\n",
    "import torch.nn as nn\n",
    "\n",
    "import numpy as np\n",
    "import matplotlib.pyplot as plt"
   ]
  },
  {
   "cell_type": "code",
   "execution_count": 2,
   "id": "f5a82d6e",
   "metadata": {},
   "outputs": [],
   "source": [
    "start_token = \" \"\n",
    "\n",
    "with open(\"train.txt\") as f:\n",
    "    lines = f.read()[:-1].split('\\n')\n",
    "    lines = [start_token + line for line in lines]"
   ]
  },
  {
   "cell_type": "code",
   "execution_count": 3,
   "id": "b154f25d",
   "metadata": {},
   "outputs": [],
   "source": [
    "with open('train_ans.txt') as file:\n",
    "    target = file.readlines()\n",
    "    target = [float(num.strip()) for num in target]\n",
    "\n",
    "target_tensor = torch.Tensor(target)"
   ]
  },
  {
   "cell_type": "code",
   "execution_count": 4,
   "id": "8fd1569d",
   "metadata": {},
   "outputs": [
    {
     "name": "stdout",
     "output_type": "stream",
     "text": [
      "rnn.ipynb  test.txt  train.txt\ttrain_ans.txt\r\n"
     ]
    }
   ],
   "source": [
    "!ls"
   ]
  },
  {
   "cell_type": "code",
   "execution_count": 18,
   "id": "08fd429e",
   "metadata": {},
   "outputs": [
    {
     "name": "stdout",
     "output_type": "stream",
     "text": [
      "n samples =  300\n"
     ]
    }
   ],
   "source": [
    "print('n samples = ', len(lines))\n",
    "\n",
    "# print(lines[0])"
   ]
  },
  {
   "cell_type": "code",
   "execution_count": 6,
   "id": "4cde6c45",
   "metadata": {},
   "outputs": [
    {
     "name": "stdout",
     "output_type": "stream",
     "text": [
      "max length = 49622\n",
      "min length = 48\n"
     ]
    },
    {
     "data": {
      "image/png": "[encoded data removed]",
      "text/plain": [
       "<Figure size 432x288 with 1 Axes>"
      ]
     },
     "metadata": {
      "needs_background": "light"
     },
     "output_type": "display_data"
    }
   ],
   "source": [
    "lens = list(map(len, lines))\n",
    "MAX_LENGTH = max(lens)\n",
    "MIN_LENGTH = min(lens)\n",
    "print(\"max length =\", MAX_LENGTH)\n",
    "print(\"min length =\", MIN_LENGTH)\n",
    "\n",
    "plt.title('Sequence length distribution')\n",
    "plt.hist(list(map(len, lines)),bins=25);"
   ]
  },
  {
   "cell_type": "code",
   "execution_count": 7,
   "id": "f912088a",
   "metadata": {},
   "outputs": [
    {
     "name": "stdout",
     "output_type": "stream",
     "text": [
      "num_tokens =  31\n"
     ]
    }
   ],
   "source": [
    "#all unique characters go here\n",
    "tokens = set(np.concatenate([list(line) for line in lines]))\n",
    "\n",
    "tokens = list(tokens)\n",
    "\n",
    "num_tokens = len(tokens)\n",
    "print ('num_tokens = ', num_tokens)"
   ]
  },
  {
   "cell_type": "code",
   "execution_count": 8,
   "id": "6e9c5ab1",
   "metadata": {},
   "outputs": [],
   "source": [
    "token_to_id = {tokens[i]:i for i in range(len(tokens))}"
   ]
  },
  {
   "cell_type": "code",
   "execution_count": 9,
   "id": "fe10fafa",
   "metadata": {},
   "outputs": [],
   "source": [
    "def to_matrix(lines, max_len=None, pad=token_to_id[' '], dtype='int32', batch_first = True):\n",
    "    \"\"\"Casts a list of names into rnn-digestable matrix\"\"\"\n",
    "    \n",
    "    max_len = max_len or max(map(len, lines))\n",
    "    lines_ix = np.zeros([len(lines), max_len], dtype) + pad\n",
    "\n",
    "    for i in range(len(lines)):\n",
    "        line_ix = [token_to_id[c] for c in lines[i]]\n",
    "        lines_ix[i, :len(line_ix)] = line_ix\n",
    "        \n",
    "    if not batch_first: # convert [batch, time] into [time, batch]\n",
    "        lines_ix = np.transpose(lines_ix)\n",
    "\n",
    "    return torch.tensor(lines_ix)"
   ]
  },
  {
   "cell_type": "code",
   "execution_count": 10,
   "id": "7b1a5b5c",
   "metadata": {},
   "outputs": [
    {
     "data": {
      "text/plain": [
       "tensor([[16, 23,  1, 16, 22, 16, 23],\n",
       "        [23, 16, 23,  1, 16, 22, 22]], dtype=torch.int32)"
      ]
     },
     "execution_count": 10,
     "metadata": {},
     "output_type": "execute_result"
    }
   ],
   "source": [
    "to_matrix(['fsdf fs', 'sfsdf'])"
   ]
  },
  {
   "cell_type": "code",
   "execution_count": 11,
   "id": "34157234",
   "metadata": {},
   "outputs": [
    {
     "name": "stdout",
     "output_type": "stream",
     "text": [
      "GPU is available\n"
     ]
    }
   ],
   "source": [
    "is_cuda = torch.cuda.is_available()\n",
    "\n",
    "if is_cuda:\n",
    "    device = torch.device(\"cuda\")\n",
    "    print(\"GPU is available\")\n",
    "else:\n",
    "    device = torch.device(\"cpu\")\n",
    "    print(\"GPU not available, CPU used\")\n",
    "    \n",
    "torch.cuda.set_device(1)"
   ]
  },
  {
   "cell_type": "code",
   "execution_count": 12,
   "id": "5537a79a",
   "metadata": {},
   "outputs": [
    {
     "data": {
      "text/plain": [
       "RNN(\n",
       "  (embedding): Embedding(31, 32)\n",
       "  (rnn): GRU(32, 128, batch_first=True, bidirectional=True)\n",
       "  (fc1): Linear(in_features=256, out_features=64, bias=True)\n",
       "  (fc2): Linear(in_features=64, out_features=1, bias=True)\n",
       ")"
      ]
     },
     "execution_count": 12,
     "metadata": {},
     "output_type": "execute_result"
    }
   ],
   "source": [
    "batch_size = 10\n",
    "\n",
    "class RNN(nn.Module):\n",
    "    def __init__(self, num_tokens, emb_size, hidden_dim, n_layers, output_size, device, bidir=True):\n",
    "        super().__init__()\n",
    "        \n",
    "        self.bidir = bidir\n",
    "        self.mult = 2 if bidir else 1\n",
    "        \n",
    "        self.hidden_dim = hidden_dim\n",
    "        self.n_layers = n_layers\n",
    "        \n",
    "        self.embedding = nn.Embedding(num_tokens, emb_size)\n",
    "        self.rnn = nn.GRU(emb_size, hidden_dim, n_layers,\n",
    "                          batch_first=True, bidirectional=bidir)\n",
    "        self.fc1 = nn.Linear(hidden_dim * self.mult, hidden_dim // 2)\n",
    "        self.fc2 = nn.Linear(hidden_dim // 2, output_size)\n",
    "\n",
    "\n",
    "    def forward(self, x):\n",
    "        hidden = self.init_hidden(batch_size)\n",
    "        x_emb = self.embedding(x)\n",
    "        \n",
    "        out, hidden = self.rnn(x_emb, hidden)\n",
    "        \n",
    "        if self.bidir:\n",
    "            out = self.fc1(torch.cat((hidden[0], hidden[1]), dim=-1))\n",
    "        else:\n",
    "            out = self.fc1(hidden)\n",
    "        out = self.fc2(out)\n",
    "\n",
    "        return out.squeeze()\n",
    "\n",
    "\n",
    "    def init_hidden(self, batch_size):\n",
    "        hidden = torch.zeros(self.n_layers * self.mult, batch_size, self.hidden_dim).to(device)\n",
    "        return hidden\n",
    "\n",
    "\n",
    "model = RNN(num_tokens=num_tokens,\n",
    "            emb_size=32,\n",
    "            hidden_dim=128,\n",
    "            n_layers=1,\n",
    "            output_size=1,\n",
    "            device=device)\n",
    "\n",
    "model.to(device)"
   ]
  },
  {
   "cell_type": "code",
   "execution_count": 13,
   "id": "fd428d9e",
   "metadata": {},
   "outputs": [],
   "source": [
    "opt = torch.optim.Adam(model.parameters())\n",
    "\n",
    "criterion = torch.nn.MSELoss()"
   ]
  },
  {
   "cell_type": "code",
   "execution_count": 14,
   "id": "77a11dd8",
   "metadata": {},
   "outputs": [],
   "source": [
    "def train_loop(n_epochs, lr):\n",
    "    for g in opt.param_groups:\n",
    "        g['lr'] = lr\n",
    "    \n",
    "    for i in range(n_epochs):\n",
    "        j = 0\n",
    "        losses = []\n",
    "        while j + batch_size <= len(lines):\n",
    "            opt.zero_grad()\n",
    "\n",
    "            X_batch = to_matrix(lines[j: j + batch_size]).to(device)\n",
    "            y_batch = target_tensor[j: j + batch_size].to(device)\n",
    "\n",
    "            output = model(X_batch)\n",
    "\n",
    "            loss = criterion(output, y_batch)\n",
    "            loss.backward()\n",
    "\n",
    "            opt.step()\n",
    "\n",
    "            j += batch_size\n",
    "\n",
    "            losses += [loss.item()]\n",
    "\n",
    "        print(f'Epoch {i + 1}:', 'mean loss =', np.mean(losses))"
   ]
  },
  {
   "cell_type": "code",
   "execution_count": 15,
   "id": "1927dabc",
   "metadata": {},
   "outputs": [
    {
     "name": "stdout",
     "output_type": "stream",
     "text": [
      "208.19970801671346\n",
      "145.21627356211346\n",
      "139.15412508646648\n",
      "133.9319662729899\n",
      "129.14595295588177\n",
      "122.514750734965\n",
      "104.87870394388834\n",
      "87.484157594045\n",
      "63.37496732076009\n",
      "60.08398329416911\n",
      "45.11982622146606\n",
      "33.035103972752886\n",
      "26.95128698348999\n",
      "28.27607644399007\n",
      "21.830643423398335\n",
      "17.76788838704427\n",
      "14.761630900700887\n",
      "16.67577969233195\n",
      "14.291736952463786\n",
      "10.03131312529246\n",
      "9.899371727307637\n",
      "11.206713716189066\n",
      "16.126178606351218\n",
      "10.782480883598328\n",
      "8.486400707562764\n",
      "5.757856460412343\n",
      "5.060694511731466\n",
      "4.7215350786844885\n",
      "4.678534352779389\n",
      "3.6690390507380166\n",
      "3.379631527264913\n",
      "4.898240681489309\n",
      "3.960799241065979\n",
      "4.044676923751831\n",
      "3.187278288602829\n",
      "4.207499861717224\n",
      "4.102465442816416\n",
      "5.315885106722514\n",
      "4.287771612405777\n",
      "5.63565243879954\n",
      "5.7974771896998085\n",
      "5.075432988007863\n",
      "3.635056757926941\n",
      "3.545534614721934\n",
      "2.8537109663089115\n",
      "2.3431279281775157\n",
      "2.330397226413091\n",
      "2.3900175511837007\n",
      "2.2195704013109205\n",
      "1.8063716381788253\n",
      "CPU times: user 54min 5s, sys: 2min 31s, total: 56min 36s\n",
      "Wall time: 55min 10s\n"
     ]
    }
   ],
   "source": [
    "%%time\n",
    "\n",
    "train_loop(50, 0.001)"
   ]
  },
  {
   "cell_type": "markdown",
   "id": "9f4f4644",
   "metadata": {},
   "source": [
    "### Calculate RMSE on train"
   ]
  },
  {
   "cell_type": "code",
   "execution_count": 16,
   "id": "c3b8b9a0",
   "metadata": {},
   "outputs": [],
   "source": [
    "j = 0\n",
    "batch_size = 10\n",
    "outputs = []\n",
    "\n",
    "with torch.no_grad():\n",
    "    while j + batch_size <= len(lines):\n",
    "        X_batch = to_matrix(lines[j: j + batch_size]).to(device)\n",
    "        outputs += [model(X_batch)]\n",
    "        j += batch_size\n",
    "\n",
    "predictions = torch.cat(outputs).cpu().numpy()"
   ]
  },
  {
   "cell_type": "code",
   "execution_count": 17,
   "id": "d6d85a98",
   "metadata": {},
   "outputs": [
    {
     "data": {
      "text/plain": [
       "1.3359711"
      ]
     },
     "execution_count": 17,
     "metadata": {},
     "output_type": "execute_result"
    }
   ],
   "source": [
    "from sklearn.metrics import mean_squared_error\n",
    "\n",
    "\n",
    "mean_squared_error(target_tensor.numpy(), predictions, squared=False)"
   ]
  },
  {
   "cell_type": "code",
   "execution_count": null,
   "id": "e08cc3e0",
   "metadata": {},
   "outputs": [],
   "source": []
  }
 ],
 "metadata": {
  "kernelspec": {
   "display_name": "Python 3 (ipykernel)",
   "language": "python",
   "name": "python3"
  },
  "language_info": {
   "codemirror_mode": {
    "name": "ipython",
    "version": 3
   },
   "file_extension": ".py",
   "mimetype": "text/x-python",
   "name": "python",
   "nbconvert_exporter": "python",
   "pygments_lexer": "ipython3",
   "version": "3.8.0"
  }
 },
 "nbformat": 4,
 "nbformat_minor": 5
}
